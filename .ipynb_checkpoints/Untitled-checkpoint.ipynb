{
 "cells": [
  {
   "cell_type": "code",
   "execution_count": null,
   "metadata": {
    "ExecuteTime": {
     "start_time": "2020-03-07T14:48:02.317Z"
    }
   },
   "outputs": [],
   "source": [
    "import os\n",
    "y = 'yes'\n",
    "def converting_video_ffmpeg(framerate,file_path,file_path_out):\n",
    "    os.system('yes | ffmpeg -r {0} -f image2 -s 1920x1080 -i \"{1}%d.jpg\" -vcodec libx264 -crf 25  -pix_fmt yuv420p \"{2}.mp4\"'.format(framerate,file_path,file_path_out))\n",
    "    print('ffmpeg -r {0} -f image2 -s 1920x1080 -i \"{1}%d.jpg\" -vcodec libx264 -crf 25  -pix_fmt yuv420p \"{2}.mp4\"'.format(framerate,file_path,file_path_out))\n",
    "    \n",
    "\n",
    "path_out = r\"C:\\Users\\JabaNay\\Desktop\\CV and Certificates\\Proof\\test\"\n",
    "path = r\"C:\\Users\\JabaNay\\Documents\\GitHub\\JabaNay-Frame-Interpolation\\Data_out\\Images2\\frame\"\n",
    "\n",
    "converting_video_ffmpeg(60,path,path_out)"
   ]
  },
  {
   "cell_type": "code",
   "execution_count": null,
   "metadata": {
    "ExecuteTime": {
     "start_time": "2020-03-07T15:03:28.579Z"
    }
   },
   "outputs": [],
   "source": [
    "from IPython.core.display import display, HTML\n",
    "display(HTML(\"<style>.container { width:100% !important; }</style>\"))"
   ]
  },
  {
   "cell_type": "code",
   "execution_count": 7,
   "metadata": {
    "ExecuteTime": {
     "end_time": "2020-03-08T05:52:26.942039Z",
     "start_time": "2020-03-08T05:52:26.931005Z"
    }
   },
   "outputs": [
    {
     "ename": "ModuleNotFoundError",
     "evalue": "No module named 'converting_video_ffmpeg.py'; 'converting_video_ffmpeg' is not a package",
     "output_type": "error",
     "traceback": [
      "\u001b[1;31m---------------------------------------------------------------------------\u001b[0m",
      "\u001b[1;31mModuleNotFoundError\u001b[0m                       Traceback (most recent call last)",
      "\u001b[1;32m<ipython-input-7-d4cc8bd87bd8>\u001b[0m in \u001b[0;36m<module>\u001b[1;34m\u001b[0m\n\u001b[0;32m      1\u001b[0m \u001b[1;32mimport\u001b[0m \u001b[0mos\u001b[0m\u001b[1;33m\u001b[0m\u001b[1;33m\u001b[0m\u001b[0m\n\u001b[0;32m      2\u001b[0m \u001b[1;33m\u001b[0m\u001b[0m\n\u001b[1;32m----> 3\u001b[1;33m \u001b[1;32mfrom\u001b[0m \u001b[0mconverting_video_ffmpeg\u001b[0m\u001b[1;33m.\u001b[0m\u001b[0mpy\u001b[0m \u001b[1;32mimport\u001b[0m \u001b[0mconverting_video_ffmpeg\u001b[0m\u001b[1;33m\u001b[0m\u001b[1;33m\u001b[0m\u001b[0m\n\u001b[0m\u001b[0;32m      4\u001b[0m \u001b[1;33m\u001b[0m\u001b[0m\n\u001b[0;32m      5\u001b[0m \u001b[0mpath_out\u001b[0m \u001b[1;33m=\u001b[0m \u001b[1;34mr\"C:\\Users\\JabaNay\\Desktop\\CV and Certificates\\Proof\\test\"\u001b[0m\u001b[1;33m\u001b[0m\u001b[1;33m\u001b[0m\u001b[0m\n",
      "\u001b[1;31mModuleNotFoundError\u001b[0m: No module named 'converting_video_ffmpeg.py'; 'converting_video_ffmpeg' is not a package"
     ]
    }
   ],
   "source": [
    "import os\n",
    "\n",
    "from converting_video_ffmpeg.py import converting_video_ffmpeg\n",
    "\n",
    "path_out = r\"C:\\Users\\JabaNay\\Desktop\\CV and Certificates\\Proof\\test\"\n",
    "path = r\"C:\\Users\\JabaNay\\Documents\\GitHub\\JabaNay-Frame-Interpolation\\Data_out\\Images2\\frame\"\n",
    "\n",
    "converting_video_ffmpeg(60,path,path_out)"
   ]
  },
  {
   "cell_type": "code",
   "execution_count": null,
   "metadata": {},
   "outputs": [],
   "source": []
  }
 ],
 "metadata": {
  "kernelspec": {
   "display_name": "Python 3",
   "language": "python",
   "name": "python3"
  },
  "language_info": {
   "codemirror_mode": {
    "name": "ipython",
    "version": 3
   },
   "file_extension": ".py",
   "mimetype": "text/x-python",
   "name": "python",
   "nbconvert_exporter": "python",
   "pygments_lexer": "ipython3",
   "version": "3.7.1"
  },
  "latex_envs": {
   "LaTeX_envs_menu_present": true,
   "autoclose": false,
   "autocomplete": true,
   "bibliofile": "biblio.bib",
   "cite_by": "apalike",
   "current_citInitial": 1,
   "eqLabelWithNumbers": true,
   "eqNumInitial": 1,
   "hotkeys": {
    "equation": "Ctrl-E",
    "itemize": "Ctrl-I"
   },
   "labels_anchors": false,
   "latex_user_defs": false,
   "report_style_numbering": false,
   "user_envs_cfg": false
  },
  "varInspector": {
   "cols": {
    "lenName": 16,
    "lenType": 16,
    "lenVar": 40
   },
   "kernels_config": {
    "python": {
     "delete_cmd_postfix": "",
     "delete_cmd_prefix": "del ",
     "library": "var_list.py",
     "varRefreshCmd": "print(var_dic_list())"
    },
    "r": {
     "delete_cmd_postfix": ") ",
     "delete_cmd_prefix": "rm(",
     "library": "var_list.r",
     "varRefreshCmd": "cat(var_dic_list()) "
    }
   },
   "position": {
    "height": "144px",
    "left": "1523px",
    "right": "20px",
    "top": "62px",
    "width": "350px"
   },
   "types_to_exclude": [
    "module",
    "function",
    "builtin_function_or_method",
    "instance",
    "_Feature"
   ],
   "window_display": true
  }
 },
 "nbformat": 4,
 "nbformat_minor": 4
}
