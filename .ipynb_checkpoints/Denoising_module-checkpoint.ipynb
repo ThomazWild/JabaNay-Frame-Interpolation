{
 "cells": [
  {
   "cell_type": "code",
   "execution_count": null,
   "metadata": {
    "ExecuteTime": {
     "end_time": "2020-03-04T10:35:11.411363Z",
     "start_time": "2020-03-04T10:35:11.408107Z"
    }
   },
   "outputs": [],
   "source": []
  },
  {
   "cell_type": "code",
   "execution_count": null,
   "metadata": {
    "ExecuteTime": {
     "end_time": "2020-03-04T11:04:04.602891Z",
     "start_time": "2020-03-04T11:03:50.755537Z"
    }
   },
   "outputs": [],
   "source": [
    "#Image denoising using OpenCV\n",
    "\n",
    "import numpy as np\n",
    "import cv2 as cv2\n",
    "from matplotlib import pyplot as plt\n",
    "\n",
    "\n",
    "img = cv2.imread('Data/image.jpg')\n",
    "dst = cv2.fastNlMeansDenoisingColored(img, None, h = 5, hColor = 8, templateWindowSize = 7,\n",
    "                                     searchWindowSize = 21)\n",
    "\n",
    "\n",
    "\n",
    "#Creating a display and displaying the image inside it\n",
    "cv2.namedWindow( \"Display 1\", cv2.WINDOW_AUTOSIZE );\n",
    "cv2.imshow(\"Display 1\" , img)\n",
    "\n",
    "cv2.namedWindow( \"Display 2\", cv2.WINDOW_AUTOSIZE );\n",
    "ccv2v.imshow(\"Display 2\" , dst)\n",
    "\n",
    "\n",
    "plt.subplot(121),plt.imshow(img)\n",
    "plt.subplot(122),plt.imshow(dst)\n",
    "\n",
    "cv2.imwrite( \"Data/Image_processed.jpg\", dst);\n",
    "\n",
    "plt.show()"
   ]
  },
  {
   "cell_type": "code",
   "execution_count": null,
   "metadata": {
    "ExecuteTime": {
     "end_time": "2020-03-11T08:44:32.571153Z",
     "start_time": "2020-03-11T08:44:03.614232Z"
    }
   },
   "outputs": [],
   "source": [
    "#Live video capture\n",
    "import cv2\n",
    "cap = cv2.VideoCapture(0)\n",
    "count = 0\n",
    "\n",
    "while cap.isOpened():\n",
    "    \n",
    "    ret,frame = cap.read()\n",
    "    \n",
    "    dst = cv2.fastNlMeansDenoisingColored(frame, None, h = 5, hColor = 8, templateWindowSize = 7,\n",
    "                                     searchWindowSize = 21)\n",
    "    \n",
    "    cv2.imshow('window-name',dst)\n",
    "    cv2.imwrite(\"Data_out/Images2/frame%d.jpg\" % count, dst)\n",
    "    count = count + 1\n",
    "    \n",
    "    if cv2.waitKey(10) & 0xFF == ord('q'):\n",
    "        break\n",
    "\n",
    "\n",
    "cap.release()\n",
    "cv2.destroyAllWindows()  # destroy all the opened windows"
   ]
  },
  {
   "cell_type": "code",
   "execution_count": null,
   "metadata": {
    "ExecuteTime": {
     "end_time": "2020-03-04T12:17:32.127818Z",
     "start_time": "2020-03-04T12:17:16.157006Z"
    }
   },
   "outputs": [],
   "source": [
    "import cv2\n",
    "import os\n",
    "\n",
    "image_folder = 'Data_out/Images2'\n",
    "video_name = 'video.mp4'\n",
    "\n",
    "images = [img for img in os.listdir(image_folder) if img.endswith(\".jpg\")]\n",
    "frame = cv2.imread(os.path.join(image_folder, images[0]))\n",
    "height, width, layers = frame.shape\n",
    "\n",
    "video = cv2.VideoWriter(video_name, 0, 24, (width,height))\n",
    "\n",
    "for image in images:\n",
    "    video.write(cv2.imread(os.path.join(image_folder, image)))\n",
    "\n",
    "cv2.destroyAllWindows()\n",
    "video.release()"
   ]
  },
  {
   "cell_type": "code",
   "execution_count": null,
   "metadata": {
    "ExecuteTime": {
     "end_time": "2020-03-04T12:21:55.472455Z",
     "start_time": "2020-03-04T12:21:33.485398Z"
    }
   },
   "outputs": [],
   "source": [
    "import cv2\n",
    "import numpy as np\n",
    "import os\n",
    "from os.path import isfile, join\n",
    "pathIn= 'Data_out/Images2/'\n",
    "pathOut = 'video_out.avi'\n",
    "fps = 30\n",
    "frame_array = []\n",
    "files = [f for f in os.listdir(pathIn) if isfile(join(pathIn, f))]\n",
    "#for sorting the file names properly\n",
    "files.sort(key = lambda x: x[5:-4])\n",
    "files.sort()\n",
    "frame_array = []\n",
    "files = [f for f in os.listdir(pathIn) if isfile(join(pathIn, f))]\n",
    "#for sorting the file names properly\n",
    "files.sort(key = lambda x: x[5:-4])\n",
    "for i in range(len(files)):\n",
    "    filename=pathIn + files[i]\n",
    "    #reading each files\n",
    "    img = cv2.imread(filename)\n",
    "    height, width, layers = img.shape\n",
    "    size = (width,height)\n",
    "    \n",
    "    #inserting the frames into an image array\n",
    "    frame_array.append(img)\n",
    "out = cv2.VideoWriter(pathOut,cv2.VideoWriter_fourcc(*'DIVX'), fps, size)\n",
    "for i in range(len(frame_array)):\n",
    "    # writing to a image array\n",
    "    out.write(frame_array[i])\n",
    "out.release()"
   ]
  },
  {
   "cell_type": "code",
   "execution_count": null,
   "metadata": {
    "ExecuteTime": {
     "end_time": "2020-03-06T05:24:10.895764Z",
     "start_time": "2020-03-06T05:23:58.555165Z"
    }
   },
   "outputs": [],
   "source": [
    "import cv2\n",
    "\n",
    "cv2.namedWindow(\"preview\")\n",
    "vc = cv2.VideoCapture(\"Data/Traffic_1.mp4\")\n",
    "\n",
    "if vc.isOpened(): # try to get the first frame\n",
    "    rval, frame = vc.read()\n",
    "else:\n",
    "    rval = False\n",
    "\n",
    "while rval:\n",
    "    cv2.imshow(\"preview\", frame)\n",
    "    rval, frame = vc.read()\n",
    "    key = cv2.waitKey(20)\n",
    "    if key == 27: # exit on ESC\n",
    "        break\n",
    "cv2.destroyWindow(\"preview\")"
   ]
  },
  {
   "cell_type": "code",
   "execution_count": null,
   "metadata": {
    "ExecuteTime": {
     "end_time": "2020-03-11T03:30:02.909133Z",
     "start_time": "2020-03-11T03:30:02.801106Z"
    }
   },
   "outputs": [],
   "source": [
    "import os\n",
    "\n",
    "framerate = 30\n",
    "path_out = r\"C:\\Users\\JabaNay\\Desktop\\cars\"\n",
    "path = r\"C:\\Users\\JabaNay\\Documents\\GitHub\\JabaNay-Frame-Interpolation\\Data_out\\Images2\\frame\"\n",
    "\n",
    "converting_video_ffmpeg(framerate,path,path_out)"
   ]
  },
  {
   "cell_type": "code",
   "execution_count": null,
   "metadata": {
    "ExecuteTime": {
     "end_time": "2020-03-11T09:03:11.674763Z",
     "start_time": "2020-03-11T08:57:23.349Z"
    }
   },
   "outputs": [],
   "source": [
    "import os\n",
    "\n",
    "framerate = 30\n",
    "path_out = r\"C:\\Users\\JabaNay\\Desktop\\cars\"\n",
    "path = r\"C:\\Users\\JabaNay\\Documents\\GitHub\\JabaNay-Frame-Interpolation\\Data_out\\Images2\\frame\"\n",
    "\n",
    "os.system('ffmpeg -r {0} -f image2 -i \"{1}%d.jpg\" -vcodec libx264 -crf 25  -pix_fmt yuv420p \"{2}.mp4\"'.format(framerate,path,path_out))\n"
   ]
  },
  {
   "cell_type": "code",
   "execution_count": null,
   "metadata": {
    "ExecuteTime": {
     "end_time": "2020-03-11T08:46:18.444455Z",
     "start_time": "2020-03-11T08:46:18.380143Z"
    }
   },
   "outputs": [],
   "source": []
  },
  {
   "cell_type": "code",
   "execution_count": 1,
   "metadata": {
    "ExecuteTime": {
     "end_time": "2020-03-11T09:03:11.666760Z",
     "start_time": "2020-03-11T08:52:27.501182Z"
    }
   },
   "outputs": [
    {
     "ename": "KeyboardInterrupt",
     "evalue": "",
     "output_type": "error",
     "traceback": [
      "\u001b[1;31m---------------------------------------------------------------------------\u001b[0m",
      "\u001b[1;31mKeyboardInterrupt\u001b[0m                         Traceback (most recent call last)",
      "\u001b[1;32m<ipython-input-1-c03cac5a99d2>\u001b[0m in \u001b[0;36m<module>\u001b[1;34m\u001b[0m\n\u001b[0;32m      9\u001b[0m \u001b[1;33m\u001b[0m\u001b[0m\n\u001b[0;32m     10\u001b[0m     dst = cv2.fastNlMeansDenoisingColored(frame, None, h = 4, hColor = 7, templateWindowSize = 7,\n\u001b[1;32m---> 11\u001b[1;33m                                      searchWindowSize = 21)\n\u001b[0m\u001b[0;32m     12\u001b[0m \u001b[1;33m\u001b[0m\u001b[0m\n\u001b[0;32m     13\u001b[0m     \u001b[0mcv2\u001b[0m\u001b[1;33m.\u001b[0m\u001b[0mimshow\u001b[0m\u001b[1;33m(\u001b[0m\u001b[1;34m'window-name'\u001b[0m\u001b[1;33m,\u001b[0m\u001b[0mdst\u001b[0m\u001b[1;33m)\u001b[0m\u001b[1;33m\u001b[0m\u001b[1;33m\u001b[0m\u001b[0m\n",
      "\u001b[1;31mKeyboardInterrupt\u001b[0m: "
     ]
    }
   ],
   "source": [
    "#Live video capture\n",
    "import cv2\n",
    "cap = cv2.VideoCapture(\"Data/test_2.mp4\")\n",
    "count = 0\n",
    "\n",
    "while cap.isOpened():\n",
    "    \n",
    "    ret,frame = cap.read()\n",
    "    \n",
    "    dst = cv2.fastNlMeansDenoisingColored(frame, None, h = 4, hColor = 7, templateWindowSize = 7,\n",
    "                                     searchWindowSize = 20)\n",
    "    \n",
    "    cv2.imshow('window-name',dst)\n",
    "    cv2.imwrite(\"Data_out/Images2/frame%d.jpg\" % count, dst)\n",
    "    count = count + 1\n",
    "    \n",
    "    if cv2.waitKey(1) & 0xFF == ord('q'):\n",
    "        break\n",
    "\n",
    "\n",
    "cap.release()\n",
    "cv2.destroyAllWindows()  # destroy all the opened windows"
   ]
  },
  {
   "cell_type": "code",
   "execution_count": null,
   "metadata": {},
   "outputs": [],
   "source": []
  }
 ],
 "metadata": {
  "kernelspec": {
   "display_name": "Python 3",
   "language": "python",
   "name": "python3"
  },
  "language_info": {
   "codemirror_mode": {
    "name": "ipython",
    "version": 3
   },
   "file_extension": ".py",
   "mimetype": "text/x-python",
   "name": "python",
   "nbconvert_exporter": "python",
   "pygments_lexer": "ipython3",
   "version": "3.7.1"
  },
  "latex_envs": {
   "LaTeX_envs_menu_present": true,
   "autoclose": false,
   "autocomplete": true,
   "bibliofile": "biblio.bib",
   "cite_by": "apalike",
   "current_citInitial": 1,
   "eqLabelWithNumbers": true,
   "eqNumInitial": 1,
   "hotkeys": {
    "equation": "Ctrl-E",
    "itemize": "Ctrl-I"
   },
   "labels_anchors": false,
   "latex_user_defs": false,
   "report_style_numbering": false,
   "user_envs_cfg": false
  },
  "varInspector": {
   "cols": {
    "lenName": 16,
    "lenType": 16,
    "lenVar": 40
   },
   "kernels_config": {
    "python": {
     "delete_cmd_postfix": "",
     "delete_cmd_prefix": "del ",
     "library": "var_list.py",
     "varRefreshCmd": "print(var_dic_list())"
    },
    "r": {
     "delete_cmd_postfix": ") ",
     "delete_cmd_prefix": "rm(",
     "library": "var_list.r",
     "varRefreshCmd": "cat(var_dic_list()) "
    }
   },
   "position": {
    "height": "688.212px",
    "left": "1427.11px",
    "right": "20px",
    "top": "149px",
    "width": "364.766px"
   },
   "types_to_exclude": [
    "module",
    "function",
    "builtin_function_or_method",
    "instance",
    "_Feature"
   ],
   "window_display": true
  }
 },
 "nbformat": 4,
 "nbformat_minor": 4
}
