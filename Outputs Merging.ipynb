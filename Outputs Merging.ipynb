{
 "cells": [
  {
   "cell_type": "code",
   "execution_count": null,
   "metadata": {
    "ExecuteTime": {
     "start_time": "2020-03-07T14:48:02.317Z"
    }
   },
   "outputs": [],
   "source": [
    "import os\n",
    "y = 'yes'\n",
    "def converting_video_ffmpeg(framerate,file_path,file_path_out):\n",
    "    os.system('yes | ffmpeg -r {0} -f image2 -s 1920x1080 -i \"{1}%d.jpg\" -vcodec libx264 -crf 25  -pix_fmt yuv420p \"{2}.mp4\"'.format(framerate,file_path,file_path_out))\n",
    "    print('ffmpeg -r {0} -f image2 -s 1920x1080 -i \"{1}%d.jpg\" -vcodec libx264 -crf 25  -pix_fmt yuv420p \"{2}.mp4\"'.format(framerate,file_path,file_path_out))\n",
    "    \n",
    "\n",
    "path_out = r\"C:\\Users\\JabaNay\\Desktop\\CV and Certificates\\Proof\\test\"\n",
    "path = r\"C:\\Users\\JabaNay\\Documents\\GitHub\\JabaNay-Frame-Interpolation\\Data_out\\Images2\\frame\"\n",
    "\n",
    "converting_video_ffmpeg(60,path,path_out)"
   ]
  },
  {
   "cell_type": "code",
   "execution_count": null,
   "metadata": {
    "ExecuteTime": {
     "start_time": "2020-03-07T15:03:28.579Z"
    }
   },
   "outputs": [],
   "source": [
    "from IPython.core.display import display, HTML\n",
    "display(HTML(\"<style>.container { width:100% !important; }</style>\"))"
   ]
  },
  {
   "cell_type": "code",
   "execution_count": null,
   "metadata": {
    "ExecuteTime": {
     "start_time": "2020-03-08T05:55:42.132Z"
    }
   },
   "outputs": [],
   "source": [
    "import os\n",
    "\n",
    "from converting_video_ffmpeg import converting_video_ffmpeg\n",
    "\n",
    "framerate = 60\n",
    "path_out = r\"C:\\Users\\JabaNay\\Desktop\\CV and Certificates\\Proof\\test\"\n",
    "path = r\"C:\\Users\\JabaNay\\Documents\\GitHub\\JabaNay-Frame-Interpolation\\Data_out\\Images2\\frame\"\n",
    "\n",
    "converting_video_ffmpeg(framerate,path,path_out)"
   ]
  },
  {
   "cell_type": "code",
   "execution_count": 14,
   "metadata": {
    "ExecuteTime": {
     "end_time": "2020-03-11T03:38:06.951125Z",
     "start_time": "2020-03-11T03:38:06.923112Z"
    }
   },
   "outputs": [
    {
     "name": "stderr",
     "output_type": "stream",
     "text": [
      "'command' is not recognized as an internal or external command,\n",
      "operable program or batch file.\n"
     ]
    }
   ],
   "source": [
    "command = \"cd\"\n",
    "!command\n",
    "\n"
   ]
  }
 ],
 "metadata": {
  "kernelspec": {
   "display_name": "Python 3",
   "language": "python",
   "name": "python3"
  },
  "language_info": {
   "codemirror_mode": {
    "name": "ipython",
    "version": 3
   },
   "file_extension": ".py",
   "mimetype": "text/x-python",
   "name": "python",
   "nbconvert_exporter": "python",
   "pygments_lexer": "ipython3",
   "version": "3.7.1"
  },
  "latex_envs": {
   "LaTeX_envs_menu_present": true,
   "autoclose": false,
   "autocomplete": true,
   "bibliofile": "biblio.bib",
   "cite_by": "apalike",
   "current_citInitial": 1,
   "eqLabelWithNumbers": true,
   "eqNumInitial": 1,
   "hotkeys": {
    "equation": "Ctrl-E",
    "itemize": "Ctrl-I"
   },
   "labels_anchors": false,
   "latex_user_defs": false,
   "report_style_numbering": false,
   "user_envs_cfg": false
  },
  "varInspector": {
   "cols": {
    "lenName": 16,
    "lenType": 16,
    "lenVar": 40
   },
   "kernels_config": {
    "python": {
     "delete_cmd_postfix": "",
     "delete_cmd_prefix": "del ",
     "library": "var_list.py",
     "varRefreshCmd": "print(var_dic_list())"
    },
    "r": {
     "delete_cmd_postfix": ") ",
     "delete_cmd_prefix": "rm(",
     "library": "var_list.r",
     "varRefreshCmd": "cat(var_dic_list()) "
    }
   },
   "position": {
    "height": "144px",
    "left": "1523px",
    "right": "20px",
    "top": "62px",
    "width": "350px"
   },
   "types_to_exclude": [
    "module",
    "function",
    "builtin_function_or_method",
    "instance",
    "_Feature"
   ],
   "window_display": true
  }
 },
 "nbformat": 4,
 "nbformat_minor": 4
}
